{
 "cells": [
  {
   "cell_type": "code",
   "execution_count": null,
   "id": "363df0dc",
   "metadata": {},
   "outputs": [
    {
     "name": "stdout",
     "output_type": "stream",
     "text": [
      "1\n",
      "2\n",
      "3\n",
      "4\n",
      "5\n",
      "6\n",
      "7\n",
      "8\n",
      "9\n",
      "10\n"
     ]
    }
   ],
   "source": [
    "#Contagem simples: Imprima os números de 1 a 10 usando for.\n",
    "for i in range(1, 11): #range(1, 11) gera números de 1 a 10, porque o segundo numero subtrai 1.\n",
    "    print(i)"
   ]
  },
  {
   "cell_type": "code",
   "execution_count": null,
   "id": "d1f06a2d",
   "metadata": {},
   "outputs": [
    {
     "name": "stdout",
     "output_type": "stream",
     "text": [
      "10\n",
      "9\n",
      "8\n",
      "7\n",
      "6\n",
      "5\n",
      "4\n",
      "3\n",
      "2\n",
      "1\n"
     ]
    }
   ],
   "source": [
    "#Contagem decrescente: Imprima de 10 a 1 usando while. \n",
    "n = 10 #Recebe o valor 10\n",
    "while 0 <n< 11: #Enquanto n for maior que zero e menor que 11\n",
    "    print (n) #imprima o valor\n",
    "    n -= 1 # n = n -1\n",
    "\n"
   ]
  },
  {
   "cell_type": "code",
   "execution_count": 4,
   "id": "3d3c0e4e",
   "metadata": {},
   "outputs": [
    {
     "name": "stdout",
     "output_type": "stream",
     "text": [
      "0\n",
      "2\n",
      "4\n",
      "6\n",
      "8\n",
      "10\n",
      "12\n",
      "14\n",
      "16\n",
      "18\n",
      "20\n"
     ]
    }
   ],
   "source": [
    "#Pares de 0 a 20: Use range() para imprimir apenas números pares de 0 a 20.\n",
    "for i in range (0,21,2): #range(0, 21, 2) gera números de 0 a 20 com passo de 2.\n",
    "    print(i)"
   ]
  },
  {
   "cell_type": "code",
   "execution_count": null,
   "id": "c782dbfb",
   "metadata": {},
   "outputs": [],
   "source": [
    "#Soma de números: Peça 5 números ao usuário e mostre a soma total.\n",
    "soma = 0\n",
    "for i in range(1, 6):\n",
    "    num = int(input(f\"Digite o {i+1}º número: \"))\n",
    "    soma += num  #soma = soma + num\n",
    "print(f\"A soma total é: {soma}\")"
   ]
  },
  {
   "cell_type": "code",
   "execution_count": 11,
   "id": "dcd257c8",
   "metadata": {},
   "outputs": [
    {
     "name": "stdout",
     "output_type": "stream",
     "text": [
      "3 x 1 = 3\n",
      "3 x 2 = 6\n",
      "3 x 3 = 9\n",
      "3 x 4 = 12\n",
      "3 x 5 = 15\n",
      "3 x 6 = 18\n",
      "3 x 7 = 21\n",
      "3 x 8 = 24\n",
      "3 x 9 = 27\n",
      "3 x 10 = 30\n"
     ]
    }
   ],
   "source": [
    "num = int(input(\"Digite um número: \"))\n",
    "for i in range (1, 11):\n",
    "    print (f\"{num} x {i} = {num*i}\")\n",
    "    "
   ]
  },
  {
   "cell_type": "code",
   "execution_count": 17,
   "id": "7ed51666",
   "metadata": {},
   "outputs": [
    {
     "name": "stdout",
     "output_type": "stream",
     "text": [
      "3\n",
      "6\n",
      "9\n",
      "12\n",
      "15\n",
      "18\n",
      "21\n",
      "24\n",
      "27\n",
      "30\n",
      "33\n",
      "36\n",
      "39\n",
      "42\n",
      "45\n",
      "48\n"
     ]
    }
   ],
   "source": [
    "#Múltiplos de 3: Imprima os múltiplos de 3 entre 1 e 50.\n",
    "\n",
    "for i in range(3, 51, 3):  #range(3, 51, 3) gera números de 3 a 50 com passo de 3.\n",
    "    print(i)\n",
    "        \n"
   ]
  },
  {
   "cell_type": "code",
   "execution_count": null,
   "id": "84895dc6",
   "metadata": {},
   "outputs": [
    {
     "name": "stdout",
     "output_type": "stream",
     "text": [
      "Numéros positivos: 6, Números negativos: 0\n",
      "7\n"
     ]
    }
   ],
   "source": [
    "#Contar positivos e negativos: Peça 6 números e conte quantos são positivos, negativos ou zero.\n",
    "pos = 0 #Recebe um valor 0\n",
    "neg = 0 #Recebe um valor 0\n",
    "for i in range (6): #Vai contar 6 vezes e tambem poderia colocar (0,6)\n",
    "    num = int(input(f'Informe o {i+1}° número: ')) #Solicita o valor 6 vezes\n",
    "    if (num > 0): #Por cada cada valor digitado ele vai repetindo a condição\n",
    "        pos += 1 #Soma 1 dentro do valor de pos se o valor for maior 0, ou seja positivo\n",
    "    elif (num < 0):\n",
    "        neg += 1\n",
    "    else:\n",
    "        (\"Voce informe ao que não se encadra entre números positivos ou negativos!\")\n",
    "print (f\"Numéros positivos: {pos}, Números negativos: {neg}\") #imprimir os resultados finais\n",
    "\n",
    "         \n",
    "            "
   ]
  },
  {
   "cell_type": "code",
   "execution_count": null,
   "id": "51ae13a8",
   "metadata": {},
   "outputs": [
    {
     "name": "stdout",
     "output_type": "stream",
     "text": [
      "A soma dos números positivos digitados foi: 20\n"
     ]
    }
   ],
   "source": [
    "soma = 0 #Variável que vai armazenar a soma dos números positivos\n",
    "while True: #Loop infinito, só para quando o break for acionado\n",
    "    numero = int(input(\"Digite um número: \")) #Pede um número ao usuário\n",
    "    if numero < 0:  #Se o número for negativo\n",
    "        break #Sai do loop\n",
    "    soma += numero  #Adiciona o número à soma se for positivo\n",
    "\n",
    "print(f\"A soma dos números positivos digitados foi: {soma}\") \n"
   ]
  },
  {
   "cell_type": "code",
   "execution_count": null,
   "id": "01c43573",
   "metadata": {},
   "outputs": [
    {
     "name": "stdout",
     "output_type": "stream",
     "text": [
      "Tente novamente\n",
      "Tente novamente\n",
      "Tente novamente\n",
      "Tente novamente\n",
      "Tente novamente\n",
      "Tente novamente\n",
      "Tente novamente\n",
      "Tente novamente\n",
      "Tente novamente\n",
      "PARABÉNS!! Voce achou o número escolhido\n"
     ]
    }
   ],
   "source": [
    "secreto = 15 # Recebe um valor escolhido\n",
    "while True: # Loop infinito, só para quando o break for acionado\n",
    "    n1 = int(input(\"Informe um valor: \")) #\n",
    "    if n1 == secreto: \n",
    "        print (\"PARABÉNS!! Voce achou o número escolhido\")\n",
    "        break\n",
    "    else: \n",
    "        print (\"Tente novamente\")\n",
    "\n",
    "\n"
   ]
  },
  {
   "cell_type": "code",
   "execution_count": 59,
   "id": "28229831",
   "metadata": {},
   "outputs": [
    {
     "name": "stdout",
     "output_type": "stream",
     "text": [
      "1\n",
      "3\n",
      "5\n",
      "7\n",
      "9\n",
      "11\n",
      "13\n",
      "15\n",
      "17\n",
      "19\n",
      "21\n",
      "23\n",
      "25\n",
      "27\n",
      "29\n",
      "31\n",
      "33\n",
      "35\n",
      "37\n",
      "39\n",
      "41\n",
      "43\n",
      "45\n",
      "47\n",
      "49\n",
      "51\n",
      "53\n",
      "55\n",
      "57\n",
      "59\n",
      "61\n",
      "63\n",
      "65\n",
      "67\n",
      "69\n",
      "71\n",
      "73\n",
      "75\n",
      "77\n",
      "79\n",
      "81\n",
      "83\n",
      "85\n",
      "87\n",
      "89\n",
      "91\n",
      "93\n",
      "95\n",
      "97\n",
      "99\n",
      "A soma dos valores impares entre 1 e 100 é 2500\n"
     ]
    }
   ],
   "source": [
    "#Soma dos ímpares: Calcule a soma de todos os números ímpares entre 1 e 100.\n",
    "soma = 0\n",
    "for i in range (1, 101, 2):\n",
    "    soma += i\n",
    "    print (i)\n",
    "print (f\"A soma dos valores impares entre 1 e 100 é {soma}\")"
   ]
  },
  {
   "cell_type": "code",
   "execution_count": null,
   "metadata": {},
   "outputs": [
    {
     "name": "stdout",
     "output_type": "stream",
     "text": [
      "O fatorial de 5 é 120\n"
     ]
    }
   ],
   "source": [
    "n = int(input(\"Informe um número: \"))\n",
    "f = 1  # começa em 1 porque 1 é o elemento neutro da multiplicação\n",
    "\n",
    "for i in range(1, n + 1):\n",
    "    f *= i  # equivale a f = f * i\n",
    "\n",
    "print(f\"O fatorial de {n} é {f}\")\n",
    "\n",
    "\n"
   ]
  }
 ],
 "metadata": {
  "kernelspec": {
   "display_name": "Python 3",
   "language": "python",
   "name": "python3"
  },
  "language_info": {
   "codemirror_mode": {
    "name": "ipython",
    "version": 3
   },
   "file_extension": ".py",
   "mimetype": "text/x-python",
   "name": "python",
   "nbconvert_exporter": "python",
   "pygments_lexer": "ipython3",
   "version": "3.12.3"
  }
 },
 "nbformat": 4,
 "nbformat_minor": 5
}
