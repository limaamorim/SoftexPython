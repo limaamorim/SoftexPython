{
 "cells": [
  {
   "cell_type": "code",
   "execution_count": null,
   "id": "9c0e7646",
   "metadata": {},
   "outputs": [
    {
     "name": "stdout",
     "output_type": "stream",
     "text": [
      "A soma de 5 + 5  é 10\n"
     ]
    }
   ],
   "source": [
    "#Peça dois números e mostre a soma.\n",
    "n1 = int(input(\"n1: \"))\n",
    "n2 = int(input(\"n2: \"))\n",
    "soma = n1 + n2\n",
    "print (f\"A soma de {n1} + {n2}  é {soma}\")"
   ]
  },
  {
   "cell_type": "code",
   "execution_count": 5,
   "id": "d63d567d",
   "metadata": {},
   "outputs": [
    {
     "name": "stdout",
     "output_type": "stream",
     "text": [
      "A subtração de 10 - 2  é 8\n"
     ]
    }
   ],
   "source": [
    "#Peça dois números e mostre a subtração. \n",
    "n1 = int(input(\"n1: \"))\n",
    "n2 = int(input(\"n2: \"))\n",
    "subtracao = n1 - n2\n",
    "print (f\"A subtração de {n1} - {n2}  é {subtracao}\")   "
   ]
  },
  {
   "cell_type": "code",
   "execution_count": 6,
   "id": "1ca56c5d",
   "metadata": {},
   "outputs": [
    {
     "name": "stdout",
     "output_type": "stream",
     "text": [
      "A multiplicação de 5 x 2  é 10\n"
     ]
    }
   ],
   "source": [
    "#Peça dois números e mostre a multiplicação.\n",
    "n1 = int(input(\"n1: \"))\n",
    "n2 = int(input(\"n2: \"))\n",
    "multiplicacao = n1 * n2\n",
    "print (f\"A multiplicação de {n1} x {n2}  é {multiplicacao}\")"
   ]
  },
  {
   "cell_type": "code",
   "execution_count": 7,
   "metadata": {},
   "outputs": [
    {
     "name": "stdout",
     "output_type": "stream",
     "text": [
      "A divisão de 10 / 5  é 2.0\n"
     ]
    }
   ],
   "source": [
    "# Peça dois números e mostre a divisão.\n",
    "n1 = int(input(\"n1: \"))\n",
    "n2 = int(input(\"n2: \"))\n",
    "divisao = n1 / n2\n",
    "print (f\"A divisão de {n1} / {n2}  é {divisao}\")"
   ]
  },
  {
   "cell_type": "code",
   "execution_count": 8,
   "id": "baa25426",
   "metadata": {},
   "outputs": [
    {
     "name": "stdout",
     "output_type": "stream",
     "text": [
      "O dobro de 10 é 20\n"
     ]
    }
   ],
   "source": [
    "#Peça um número e mostre o seu dobro.\n",
    "a = int(input(\"a: \"))\n",
    "b = 2*a\n",
    "print (f\"O dobro de {a} é {b}\")"
   ]
  },
  {
   "cell_type": "code",
   "execution_count": null,
   "id": "cafbb6ad",
   "metadata": {},
   "outputs": [
    {
     "name": "stdout",
     "output_type": "stream",
     "text": [
      "O dobro de 2 é 6\n"
     ]
    }
   ],
   "source": [
    "#Peça um número e mostre o seu triplo.\n",
    "a = int(input(\"a: \"))\n",
    "b = 3*a\n",
    "print (f\"O triplo de {a} é {b}\")"
   ]
  },
  {
   "cell_type": "code",
   "execution_count": 10,
   "id": "f71cb680",
   "metadata": {},
   "outputs": [
    {
     "name": "stdout",
     "output_type": "stream",
     "text": [
      "A metade de 10 é 5.0\n"
     ]
    }
   ],
   "source": [
    "#Peça um número e mostre a metade.\n",
    "n = int(input(\"Digite um número: \"))\n",
    "c = n/2\n",
    "print (f\"A metade de {n} é {c}\")"
   ]
  },
  {
   "cell_type": "code",
   "execution_count": 12,
   "id": "49a66448",
   "metadata": {},
   "outputs": [
    {
     "name": "stdout",
     "output_type": "stream",
     "text": [
      "10 é maior que 2\n"
     ]
    }
   ],
   "source": [
    "#Peça dois números e mostre se o primeiro é maior que o segundo.\n",
    "n1 = int(input(\"n1: \"))\n",
    "n2 = int(input(\"n2: \"))\n",
    "if n1>n2:\n",
    "    print (f\"{n1} é maior que {n2}\")\n",
    "elif n1==n2:\n",
    "    print (f\"{n1} é igual a {n2}\")\n",
    "else:\n",
    "    print (f\"{n2} é maior que {n1}\")"
   ]
  },
  {
   "cell_type": "code",
   "execution_count": 14,
   "id": "b05f8c98",
   "metadata": {},
   "outputs": [
    {
     "name": "stdout",
     "output_type": "stream",
     "text": [
      "O resto da divisão é: 1\n"
     ]
    }
   ],
   "source": [
    "a = int(input(\"a: \"))\n",
    "b = a%2\n",
    "print (f\"O resto da divisão é: {b}\")"
   ]
  },
  {
   "cell_type": "code",
   "execution_count": 16,
   "id": "02416bb8",
   "metadata": {},
   "outputs": [
    {
     "name": "stdout",
     "output_type": "stream",
     "text": [
      "O quadrado de 9 é 81\n"
     ]
    }
   ],
   "source": [
    "#Peça um número e calcule o quadrado desse número.\n",
    "a = int(input(\"a: \"))\n",
    "b = a**2\n",
    "print (f\"O quadrado de {a} é {b}\")"
   ]
  },
  {
   "cell_type": "code",
   "execution_count": 17,
   "id": "8114251b",
   "metadata": {},
   "outputs": [
    {
     "name": "stdout",
     "output_type": "stream",
     "text": [
      "A raiz quadrada de 81 é 9.0\n"
     ]
    }
   ],
   "source": [
    "#Peça um número e calcule a raiz quadrada (usando potência **0.5).\n",
    "a = int(input(\"A:\"))\n",
    "b = a**0.5\n",
    "print (f\"A raiz quadrada de {a} é {b}\")"
   ]
  },
  {
   "cell_type": "code",
   "execution_count": 18,
   "id": "99260af3",
   "metadata": {},
   "outputs": [
    {
     "name": "stdout",
     "output_type": "stream",
     "text": [
      "O valor total acrescido é 110.0\n"
     ]
    }
   ],
   "source": [
    "#Peça um número e calcule o valor acrescido de 10%.\n",
    "n1 = int(input('n1: '))\n",
    "b = (n1*0.1) + n1\n",
    "print (f\"O valor total acrescido é {b}\")\n"
   ]
  },
  {
   "cell_type": "code",
   "execution_count": 22,
   "metadata": {},
   "outputs": [
    {
     "name": "stdout",
     "output_type": "stream",
     "text": [
      "O valor total reduzido é 80.0\n"
     ]
    }
   ],
   "source": [
    "#Peça um número e calcule o valor reduzido em 20%.\n",
    "n1 = int(input('n1: '))\n",
    "b = n1 - (n1*0.2)\n",
    "print (f\"O valor total reduzido é {b}\")"
   ]
  },
  {
   "cell_type": "code",
   "execution_count": null,
   "id": "02e18a85",
   "metadata": {},
   "outputs": [],
   "source": [
    "print (f\"O aumento do novo salário foi: {novo_salario}\")\n",
    "print (\"O aumento do novo salário foi :\", novo_salario)"
   ]
  }
 ],
 "metadata": {
  "kernelspec": {
   "display_name": "Python 3",
   "language": "python",
   "name": "python3"
  },
  "language_info": {
   "codemirror_mode": {
    "name": "ipython",
    "version": 3
   },
   "file_extension": ".py",
   "mimetype": "text/x-python",
   "name": "python",
   "nbconvert_exporter": "python",
   "pygments_lexer": "ipython3",
   "version": "3.12.3"
  }
 },
 "nbformat": 4,
 "nbformat_minor": 5
}
