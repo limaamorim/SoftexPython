{
 "cells": [
  {
   "cell_type": "code",
   "execution_count": 1,
   "id": "f67b492c",
   "metadata": {},
   "outputs": [
    {
     "name": "stdout",
     "output_type": "stream",
     "text": [
      "Olá, Fernaando!\n"
     ]
    }
   ],
   "source": [
    "#Crie uma função saudacao() que receba um nome como parâmetro e exiba \"Olá, <nome>!\".\n",
    "def saudacao(nome):\n",
    "    print(f\"Olá, {nome}!\")\n",
    "saudacao(\"Fernaando\")"
   ]
  },
  {
   "cell_type": "code",
   "execution_count": null,
   "id": "e626b447",
   "metadata": {},
   "outputs": [
    {
     "name": "stdout",
     "output_type": "stream",
     "text": [
      "5\n"
     ]
    }
   ],
   "source": [
    "#Escreva uma função soma(a, b) que retorne a soma de dois números.\n",
    "def soma (a,b):\n",
    "    soma = a + b \n",
    "    return soma\n",
    "print(soma(2,3))\n"
   ]
  },
  {
   "cell_type": "code",
   "execution_count": 4,
   "id": "4d957a24",
   "metadata": {},
   "outputs": [
    {
     "name": "stdout",
     "output_type": "stream",
     "text": [
      "5 é impar\n"
     ]
    }
   ],
   "source": [
    "#Faça uma função par_ou_impar(n) que retorne \"Par\" se o número for par e \"Ímpar\" caso contrário.\n",
    "def par_ou_impar(n):\n",
    "    if n % 2 == 0 :\n",
    "        print (f\"{n} é par\")\n",
    "    else:\n",
    "        print (f\"{n} é impar\")\n",
    "par_ou_impar(5)\n",
    "        \n",
    "\n",
    "\n"
   ]
  },
  {
   "cell_type": "code",
   "execution_count": 15,
   "id": "b695de61",
   "metadata": {},
   "outputs": [
    {
     "data": {
      "text/plain": [
       "[4, 6, 8, 10]"
      ]
     },
     "execution_count": 15,
     "metadata": {},
     "output_type": "execute_result"
    }
   ],
   "source": [
    "#Crie uma função dobro_lista(lista) que receba uma lista de números e retorne outra lista com cada número dobrado.\n",
    "\n",
    "def dobro_lista(lista):\n",
    "    lista_nova = []\n",
    "    for i in lista:\n",
    "        dobro = i*2\n",
    "        lista_nova.append(dobro)\n",
    "    return lista_nova\n",
    "\n",
    "dobro_lista([2,3,4,5])\n",
    "    \n",
    "\n"
   ]
  },
  {
   "cell_type": "code",
   "execution_count": null,
   "id": "d5617fa9",
   "metadata": {},
   "outputs": [
    {
     "name": "stdout",
     "output_type": "stream",
     "text": [
      "Dentro da função:\n",
      "Mensagem global: Sou global\n",
      "Mensagem local: Sou local\n",
      "\n",
      "Fora da função:\n",
      "Mensagem global: Sou global\n"
     ]
    }
   ],
   "source": [
    "#Explique, em código, a diferença entre uma variável global e uma variável local.\n",
    "# Variável global\n",
    "mensagem = \"Sou global\"\n",
    "\n",
    "def exemplo():\n",
    "    # Variável local\n",
    "    mensagem_local = \"Sou local\"\n",
    "    print(\"Dentro da função:\")\n",
    "    print(\"Mensagem global:\", mensagem)       # acessa a variável global\n",
    "    print(\"Mensagem local:\", mensagem_local)  # acessa a variável local\n",
    "\n",
    "# Chamando a função\n",
    "exemplo()\n",
    "\n",
    "print(\"\\nFora da função:\")\n",
    "print(\"Mensagem global:\", mensagem)  # funciona\n",
    "# print(\"Mensagem local:\", mensagem_local)  # ERRO! variável local não existe aqui\n"
   ]
  },
  {
   "cell_type": "code",
   "execution_count": null,
   "id": "4db2b6f8",
   "metadata": {},
   "outputs": [
    {
     "name": "stdout",
     "output_type": "stream",
     "text": [
      "8.5\n"
     ]
    }
   ],
   "source": [
    "#Crie uma função media(*notas) que receba várias notas (usando parâmetros variáveis) e retorne a média.\n",
    "def media (*notas):\n",
    "    soma = sum(notas)\n",
    "    quantidade = len(notas)\n",
    "    media = soma / quantidade\n",
    "    return media\n"
   ]
  },
  {
   "cell_type": "code",
   "execution_count": 2,
   "id": "aebad0c5",
   "metadata": {},
   "outputs": [
    {
     "name": "stdout",
     "output_type": "stream",
     "text": [
      "6\n"
     ]
    }
   ],
   "source": [
    "#Escreva uma função calculadora(a, b, operacao) que receba dois números e uma operação (\"+\", \"-\", \"*\", \"/\") e retorne o resultado.\n",
    "def calculadora(a, b, operacao):\n",
    "    if operacao == \"+\":\n",
    "        return a + b\n",
    "    elif operacao == \"-\":\n",
    "        return a - b\n",
    "    elif operacao == \"*\":\n",
    "        return a * b\n",
    "    elif operacao == \"/\":\n",
    "        if b != 0:\n",
    "            return a / b\n",
    "        else:\n",
    "            return \"Erro: Divisão por zero\"\n",
    "    else:\n",
    "        return \"Operação inválida\"\n",
    "print(calculadora(4, 2, \"+\"))"
   ]
  },
  {
   "cell_type": "code",
   "execution_count": 4,
   "id": "cdda3130",
   "metadata": {},
   "outputs": [
    {
     "name": "stdout",
     "output_type": "stream",
     "text": [
      "True\n"
     ]
    }
   ],
   "source": [
    "#Faça uma função eh_primo(n) que retorne True se o número for primo e False caso contrário.\n",
    "def eh_primo(n):\n",
    "    if n <= 1:\n",
    "        return False\n",
    "    for i in range(2, int(n**0.5) + 1):\n",
    "        if n % i == 0:\n",
    "            return False\n",
    "    return True\n",
    "print(eh_primo(11))"
   ]
  },
  {
   "cell_type": "code",
   "execution_count": 9,
   "id": "01849e63",
   "metadata": {},
   "outputs": [
    {
     "name": "stdout",
     "output_type": "stream",
     "text": [
      "True\n",
      "False\n",
      "True\n"
     ]
    }
   ],
   "source": [
    "def palindromo(palavra):\n",
    "    # Convertendo para minúsculas para evitar diferença entre letras maiúsculas/minúsculas\n",
    "    palavra = palavra.lower()\n",
    "    # Verifica se a palavra é igual à sua inversa\n",
    "    return palavra == palavra[::-1]\n",
    "\n",
    "# Exemplos de teste\n",
    "print(palindromo(\"arara\"))  # True\n",
    "print(palindromo(\"Python\")) # False\n",
    "print(palindromo(\"Ovo\"))    # True\n"
   ]
  }
 ],
 "metadata": {
  "kernelspec": {
   "display_name": "Python 3",
   "language": "python",
   "name": "python3"
  },
  "language_info": {
   "codemirror_mode": {
    "name": "ipython",
    "version": 3
   },
   "file_extension": ".py",
   "mimetype": "text/x-python",
   "name": "python",
   "nbconvert_exporter": "python",
   "pygments_lexer": "ipython3",
   "version": "3.12.3"
  }
 },
 "nbformat": 4,
 "nbformat_minor": 5
}
