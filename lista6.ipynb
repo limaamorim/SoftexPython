{
 "cells": [
  {
   "cell_type": "code",
   "execution_count": null,
   "id": "0d065725",
   "metadata": {},
   "outputs": [
    {
     "name": "stdout",
     "output_type": "stream",
     "text": [
      "10\n"
     ]
    }
   ],
   "source": [
    "#Crie uma função chamada `dobrar` que recebe um número como parâmetro e retorna o dobro desse valor. Teste a função com o número 5.\n",
    "\n",
    "# Definindo uma função chamada 'dobrar' que recebe um parâmetro 'x'\n",
    "def dobrar(x):\n",
    "    return x * 2  # Retorna o valor de 'x' multiplicado por 2\n",
    "\n",
    "# Chamando a função 'dobrar' passando 5 como argumento\n",
    "# O resultado será 5 * 2 = 10\n",
    "print(dobrar(5))\n"
   ]
  },
  {
   "cell_type": "code",
   "execution_count": null,
   "id": "9ceb840a",
   "metadata": {},
   "outputs": [
    {
     "name": "stdout",
     "output_type": "stream",
     "text": [
      "Título: 1984, Autor: George Orwell\n"
     ]
    }
   ],
   "source": [
    "#Crie uma classe `Livro` com os atributos `titulo` e `autor`. Adicione um método `exibir_dados` que retorna uma string no formato: `\"Título: [titulo], Autor: [autor]\"`. Instancie um livro com título \"1984\" e autor \"George Orwell\", e chame o método.7\n",
    "# Definindo a classe 'Livro'\n",
    "class Livro:\n",
    "    # Método construtor (__init__) que inicializa os atributos do objeto\n",
    "    def __init__(self, titulo, autor):\n",
    "        self.titulo = titulo  # Atributo 'titulo' do livro\n",
    "        self.autor = autor    # Atributo 'autor' do livro\n",
    "    \n",
    "    # Método da classe para exibir os dados do livro\n",
    "    def exibir_dados(self):\n",
    "        return f\"Título: {self.titulo}, Autor: {self.autor}\"\n",
    "\n",
    "# Criando um objeto da classe 'Livro'\n",
    "livro1 = Livro(\"1984\", \"George Orwell\")\n",
    "\n",
    "# Chamando o método exibir_dados() para mostrar os atributos do objeto\n",
    "print(livro1.exibir_dados())\n"
   ]
  },
  {
   "cell_type": "code",
   "execution_count": null,
   "id": "be6465c0",
   "metadata": {},
   "outputs": [
    {
     "name": "stdout",
     "output_type": "stream",
     "text": [
      "Modelo: Fusca, Cor: Azul\n",
      "Modelo: Fusca, Cor: Vermelho\n"
     ]
    }
   ],
   "source": [
    "# Definindo a classe 'Carro'\n",
    "class Carro:\n",
    "    # Método construtor (__init__) que inicializa os atributos do objeto\n",
    "    def __init__(self, modelo, cor):\n",
    "        self.modelo = modelo  # Atributo 'modelo' do carro\n",
    "        self.cor = cor        # Atributo 'cor' do carro\n",
    "\n",
    "# Criando um objeto da classe 'Carro'\n",
    "meu_carro = Carro(\"Fusca\", \"Azul\")\n",
    "# Imprimindo os valores iniciais dos atributos do carro\n",
    "print(f\"Modelo: {meu_carro.modelo}, Cor: {meu_carro.cor}\")\n",
    "\n",
    "# Alterando o atributo 'cor' do objeto\n",
    "meu_carro.cor = \"Vermelho\"\n",
    "\n",
    "# Imprimindo os valores atualizados do objeto\n",
    "print(f\"Modelo: {meu_carro.modelo}, Cor: {meu_carro.cor}\")\n",
    "\n"
   ]
  },
  {
   "cell_type": "code",
   "execution_count": null,
   "id": "69fd3702",
   "metadata": {},
   "outputs": [
    {
     "name": "stdout",
     "output_type": "stream",
     "text": [
      "Seu peso é: 70kg e sua altura é: 1.75m\n",
      "Peso normal\n"
     ]
    }
   ],
   "source": [
    "#Funções com Múltiplos Parâmetros escreva uma função `calcular_imc` que recebe peso (kg) e altura (m) e retorna o IMC\n",
    "\n",
    "def calcular_imc(peso, altura):\n",
    "    # Fórmula do IMC = peso (kg) dividido pela altura ao quadrado (m²)\n",
    "    imc = peso / (altura ** 2)\n",
    "\n",
    "    # Verifica em qual faixa o IMC se encontra\n",
    "    if imc < 18.5:\n",
    "        print(f\"Seu peso é: {peso}kg e sua altura é: {altura}m\")\n",
    "        print(\"Abaixo do peso\")\n",
    "\n",
    "    elif 18.5 <= imc < 24.9:\n",
    "        print(f\"Seu peso é: {peso}kg e sua altura é: {altura}m\")\n",
    "        print(\"Peso normal\")\n",
    "\n",
    "    elif 25 <= imc < 29.9:\n",
    "        print(f\"Seu peso é: {peso}kg e sua altura é: {altura}m\")\n",
    "        print(\"Sobrepeso\")\n",
    "\n",
    "    else:\n",
    "        print(f\"Seu peso é: {peso}kg e sua altura é: {altura}m\")\n",
    "        print(\"Obesidade\")\n",
    "\n",
    "\n",
    "# --- Testando a função ---\n",
    "calcular_imc(70, 1.75)   # peso = 70kg, altura = 1,75m\n"
   ]
  },
  {
   "cell_type": "code",
   "execution_count": 3,
   "id": "69434ea2",
   "metadata": {},
   "outputs": [
    {
     "name": "stdout",
     "output_type": "stream",
     "text": [
      "Depósito de R$50 realizado. Novo saldo: R$50\n",
      "Saque de R$30 realizado. Novo saldo: R$20\n"
     ]
    }
   ],
   "source": [
    "#5. Métodos que Modificam Atributos Crie uma classe `Conta` com atributo `saldo` (inicializado como 0). Adicione métodos:\n",
    "#Depositar(valor)`: adiciona o valor ao saldo\n",
    "#Sacar(valor)`: subtrai o valor do saldo (apenas se houver saldo suficiente)\n",
    "#Crie uma conta, deposite 100, saque 30 e imprima o saldo final.\n",
    "\n",
    "class Conta:\n",
    "    def __init__(self, saldo=0):\n",
    "        # O saldo da conta começa com o valor passado\n",
    "        # (se não passar nada, começa em 0)\n",
    "        self.saldo = saldo\n",
    "\n",
    "    def depositar(self, valor):\n",
    "        # Aumenta o saldo com o valor do depósito\n",
    "        self.saldo += valor\n",
    "        print(f\"Depósito de R${valor} realizado. Novo saldo: R${self.saldo}\")\n",
    "\n",
    "    def sacar(self, valor):\n",
    "        # Verifica se há saldo suficiente para o saque\n",
    "        if valor > self.saldo:\n",
    "            print(\"Saldo insuficiente para saque.\")\n",
    "        else:\n",
    "            # Se houver saldo, desconta o valor\n",
    "            self.saldo -= valor\n",
    "            print(f\"Saque de R${valor} realizado. Novo saldo: R${self.saldo}\")\n",
    "\n",
    "\n",
    "# --- Testando a classe ---\n",
    "minha_conta = Conta()      # Cria conta com saldo inicial 0\n",
    "minha_conta.depositar(50)  # Deposita 50 → saldo = 50\n",
    "minha_conta.sacar(30)      # Saca 30 → saldo = 20\n",
    "\n",
    "        "
   ]
  },
  {
   "cell_type": "code",
   "execution_count": 2,
   "id": "529e4fbe",
   "metadata": {},
   "outputs": [
    {
     "name": "stdout",
     "output_type": "stream",
     "text": [
      "Cliente: João\n",
      "Pedido -> Produto: Notebook, Quantidade: 2\n"
     ]
    }
   ],
   "source": [
    "#Interação entre Objetos\n",
    "#Crie uma classe `Pedido` com atributos `produto` e `quantidade`. Crie uma classe `Cliente` com atributo `nome` e um método `fazer_pedido(produto, quantidade)` que retorna um objeto `Pedido`. Faça um cliente \"João\" fazer um pedido de \"Notebook\" com quantidade 2.\n",
    "\n",
    "# Classe que representa um pedido feito pelo cliente\n",
    "class Pedido:\n",
    "    def __init__(self, produto, quantidade):\n",
    "        self.produto = produto      # Nome do produto\n",
    "        self.quantidade = quantidade  # Quantidade pedida\n",
    "\n",
    "\n",
    "# Classe que representa um cliente\n",
    "class Cliente:\n",
    "    def __init__(self, nome):\n",
    "        self.nome = nome  # Nome do cliente\n",
    "\n",
    "    def fazer_pedido(self, produto, quantidade):\n",
    "        # Cria e retorna um objeto Pedido\n",
    "        return Pedido(produto, quantidade)\n",
    "\n",
    "# Criando um cliente chamado João\n",
    "cliente1 = Cliente(\"João\")\n",
    "\n",
    "# João faz um pedido de 2 notebooks\n",
    "pedido1 = cliente1.fazer_pedido(\"Notebook\", 2)\n",
    "\n",
    "# Exibindo informações do cliente e do pedido\n",
    "print(f\"Cliente: {cliente1.nome}\")\n",
    "print(f\"Pedido -> Produto: {pedido1.produto}, Quantidade: {pedido1.quantidade}\")\n"
   ]
  },
  {
   "cell_type": "code",
   "execution_count": 1,
   "id": "baeeb579",
   "metadata": {},
   "outputs": [
    {
     "name": "stdout",
     "output_type": "stream",
     "text": [
      "Somando Ponto(1, 2) + Ponto(3, 4)\n",
      "Resultado final: Ponto(4, 6)\n"
     ]
    }
   ],
   "source": [
    "#Crie uma classe `Ponto` com atributos `x` e `y`. Implemente o método `__str__` para retornar `\"(x, y)\"` e o método `__add__` para permitir a soma de dois pontos (soma das coordenadas). Teste criando dois pontos (1, 2) e (3, 4), somando-os e imprimindo o resultado.\n",
    "\n",
    "# Classe que representa um ponto no plano cartesiano\n",
    "class Ponto:\n",
    "    def __init__(self, x, y):\n",
    "        self.x = x  # coordenada X\n",
    "        self.y = y  # coordenada Y\n",
    "\n",
    "    def __str__(self):\n",
    "        # Define como o ponto será exibido no print()\n",
    "        return f\"Ponto({self.x}, {self.y})\"\n",
    "\n",
    "    def __add__(self, other):\n",
    "        # Esse método é chamado quando usamos o operador \"+\"\n",
    "        print(f\"Somando {self} + {other}\")\n",
    "        # Retorna um novo objeto Ponto com as coordenadas somadas\n",
    "        return Ponto(self.x + other.x, self.y + other.y)\n",
    "\n",
    "ponto1 = Ponto(1, 2)  # cria ponto (1, 2)\n",
    "ponto2 = Ponto(3, 4)  # cria ponto (3, 4)\n",
    "\n",
    "# Aqui, o operador \"+\" chama o método __add__\n",
    "ponto3 = ponto1 + ponto2  \n",
    "\n",
    "# Mostra o resultado final\n",
    "print(\"Resultado final:\", ponto3)\n",
    "\n"
   ]
  },
  {
   "cell_type": "code",
   "execution_count": null,
   "id": "2560f554",
   "metadata": {},
   "outputs": [
    {
     "name": "stdout",
     "output_type": "stream",
     "text": [
      "Média da turma: 7.5555555555555545\n"
     ]
    }
   ],
   "source": [
    "#Classe com Lista de Objetos\n",
    "#Crie uma classe `Turma` com atributo `alunos` (lista vazia). Adicione métodos: - `adicionar_aluno(aluno)`: adiciona um objeto `Aluno` à lista - `media_turma()`: calcula a média das notas de todos os alunos (cada aluno tem uma lista de notas) Use a classe `Aluno` da aula. Crie 3 alunos com notas [8,7,9], [6,5,7], [9,8,9], adicione-os à turma e calcule a média geral.\n",
    "\n",
    "# Classe que representa uma turma de alunos\n",
    "class Turma:\n",
    "    def __init__(self):\n",
    "        self.alunos = []  # Lista que vai guardar objetos do tipo Aluno\n",
    "    \n",
    "    def adicionar_aluno(self, aluno):\n",
    "        # Adiciona um objeto Aluno à lista da turma\n",
    "        self.alunos.append(aluno)\n",
    "    \n",
    "    def media_turma(self):\n",
    "        total_notas = 0\n",
    "        total_alunos = len(self.alunos)  # quantidade de alunos na turma\n",
    "\n",
    "        # Para cada aluno, calcula a média individual e soma ao total\n",
    "        for aluno in self.alunos:\n",
    "            total_notas += sum(aluno.notas) / len(aluno.notas)\n",
    "\n",
    "        # Retorna a média da turma (se houver alunos, senão retorna 0)\n",
    "        return total_notas / total_alunos if total_alunos > 0 else 0\n",
    "\n",
    "\n",
    "# Classe que representa um aluno\n",
    "class Aluno:\n",
    "    def __init__(self, nome, notas):\n",
    "        self.nome = nome    # nome do aluno\n",
    "        self.notas = notas  # lista de notas do aluno\n",
    "\n",
    "\n",
    "# ---- Testando o sistema ----\n",
    "\n",
    "# Criando alunos com suas notas\n",
    "aluno1 = Aluno(\"Ana\", [8, 7, 9])\n",
    "aluno2 = Aluno(\"Bruno\", [6, 5, 7])\n",
    "aluno3 = Aluno(\"Carla\", [9, 8, 9])\n",
    "\n",
    "# Criando turma e adicionando alunos\n",
    "turma = Turma()\n",
    "turma.adicionar_aluno(aluno1)\n",
    "turma.adicionar_aluno(aluno2)\n",
    "turma.adicionar_aluno(aluno3)\n",
    "\n",
    "# Calculando e exibindo a média da turma\n",
    "media = turma.media_turma() \n",
    "print(f\"Média da turma: {media}\")\n",
    "\n"
   ]
  },
  {
   "cell_type": "code",
   "execution_count": null,
   "id": "eaf48538",
   "metadata": {},
   "outputs": [
    {
     "name": "stdout",
     "output_type": "stream",
     "text": [
      "Modelo: Ferrari, Motor: 150 CV\n"
     ]
    }
   ],
   "source": [
    "#Composição de Objetos Crie uma classe `Motor` com atributo `potencia`. Crie uma classe `Carro` com atributos `modelo` e `motor` (objeto da classe `Motor`). Adicione um método `exibir_detalhes` que retorna `\"Modelo: [modelo], Motor: [potencia] CV\"`. Crie um motor de 150 CV, um carro \"Ferrari\" com esse motor, e exiba os detalhes.\n",
    "\n",
    "class Motor:\n",
    "    def __init__(self, potencia):\n",
    "        self.potencia = potencia  # atributo com a potência do motor em cavalos (CV)\n",
    "\n",
    "\n",
    "# Classe Carro que contém um objeto Motor (composição)\n",
    "class Carro:\n",
    "    def __init__(self, modelo, motor):\n",
    "        self.modelo = modelo  # modelo do carro\n",
    "        self.motor = motor    # objeto Motor associado ao carro\n",
    "\n",
    "    # Método que exibe detalhes do carro, incluindo a potência do motor\n",
    "    def exibir_detalhes(self):\n",
    "        return f\"Modelo: {self.modelo}, Motor: {self.motor.potencia} CV\"    \n",
    "\n",
    "# Criando um motor de 150 CV\n",
    "motor1 = Motor(150)\n",
    "\n",
    "# Criando um carro Ferrari com o motor criado\n",
    "carro1 = Carro(\"Ferrari\", motor1)\n",
    "\n",
    "# Exibindo os detalhes do carro\n",
    "print(carro1.exibir_detalhes())\n"
   ]
  },
  {
   "cell_type": "code",
   "execution_count": null,
   "id": "6590a44d",
   "metadata": {},
   "outputs": [
    {
     "name": "stdout",
     "output_type": "stream",
     "text": [
      "Livro emprestado com sucesso!\n",
      "Livro indisponível!\n",
      "Livro não encontrado na biblioteca.\n"
     ]
    }
   ],
   "source": [
    "#Sistema de Biblioteca\n",
    "# Crie um sistema com as classes: - Livro: atributos `titulo`, `autor`, `disponivel` (True por padrão) - Biblioteca: atributo `livros` (lista de objetos `Livro`) - Usuario: atributo `nome` e método `emprestar_livro(biblioteca, titulo)` que: - Procura o livro na biblioteca - Se disponível, altera `disponivel` para False e retorna `\"Livro emprestado com sucesso!\"` - Senão, retorna `\"Livro indisponível!\"` Teste criando 3 livros, adicionando-os à biblioteca, e um usuário \"Ana\" emprestando um livro disponível e um indisponível.\n",
    "\n",
    "class Livro:\n",
    "    def __init__(self, titulo, autor, disponivel=True):\n",
    "        self.titulo = titulo          # Título do livro\n",
    "        self.autor = autor            # Autor do livro\n",
    "        self.disponivel = disponivel  # Por padrão, o livro começa disponível (True)\n",
    "\n",
    "\n",
    "# Classe que representa a biblioteca\n",
    "class Biblioteca:\n",
    "    def __init__(self):\n",
    "        self.livros = []  # Lista que vai armazenar os livros da biblioteca\n",
    "\n",
    "    def adicionar_livro(self, livro):\n",
    "        self.livros.append(livro)  # Adiciona um livro à lista\n",
    "\n",
    "    def encontrar_livro(self, titulo):\n",
    "        # Procura o livro pelo título dentro da lista\n",
    "        for livro in self.livros:\n",
    "            if livro.titulo == titulo:\n",
    "                return livro\n",
    "        return None  # Caso não encontre, retorna None\n",
    "\n",
    "\n",
    "# Classe que representa o usuário da biblioteca\n",
    "class Usuario:\n",
    "    def __init__(self, nome):\n",
    "        self.nome = nome  # Nome do usuário\n",
    "\n",
    "    def emprestar_livro(self, biblioteca, titulo):\n",
    "        # Procura o livro na biblioteca\n",
    "        livro = biblioteca.encontrar_livro(titulo)\n",
    "\n",
    "        if livro:  # Se o livro existe\n",
    "            if livro.disponivel:  # Se está disponível\n",
    "                livro.disponivel = False  # Marca como emprestado\n",
    "                return \"Livro emprestado com sucesso!\"\n",
    "            else:\n",
    "                return \"Livro indisponível!\"  # Já foi emprestado antes\n",
    "        else:\n",
    "            return \"Livro não encontrado na biblioteca.\"  # Não existe no acervo\n",
    "\n",
    "\n",
    "# ------------------ Testando o sistema ------------------\n",
    "\n",
    "# Criando livros (um deles já começa indisponível)\n",
    "livro1 = Livro(\"1984\", \"George Orwell\")\n",
    "livro2 = Livro(\"O Senhor dos Anéis\", \"J.R.R. Tolkien\")\n",
    "livro3 = Livro(\"Dom Casmurro\", \"Machado de Assis\", disponivel=False)\n",
    "\n",
    "# Criando biblioteca e adicionando os livros\n",
    "biblioteca = Biblioteca()\n",
    "biblioteca.adicionar_livro(livro1)\n",
    "biblioteca.adicionar_livro(livro2)\n",
    "biblioteca.adicionar_livro(livro3)\n",
    "\n",
    "# Criando um usuário\n",
    "usuario = Usuario(\"Ana\")\n",
    "\n",
    "# Usuário tenta emprestar livros\n",
    "print(usuario.emprestar_livro(biblioteca, \"1984\"))          # Livro disponível → sucesso\n",
    "print(usuario.emprestar_livro(biblioteca, \"Dom Casmurro\"))  # Já indisponível → erro\n",
    "print(usuario.emprestar_livro(biblioteca, \"O Alquimista\"))  # Não existe → erro\n",
    "\n"
   ]
  },
  {
   "cell_type": "markdown",
   "id": "5b03de6c",
   "metadata": {},
   "source": [
    "#Questão 3 e 4 a seguir da aula 12"
   ]
  },
  {
   "cell_type": "code",
   "execution_count": null,
   "id": "aedf4d05",
   "metadata": {},
   "outputs": [
    {
     "name": "stdout",
     "output_type": "stream",
     "text": [
      "Contas disponíveis:\n",
      "1. Ana (Saldo: R$500)\n",
      "2. João (Saldo: R$300)\n",
      "3. Maria (Saldo: R$1000)\n"
     ]
    },
    {
     "name": "stdout",
     "output_type": "stream",
     "text": [
      "\n",
      "Você selecionou: Conta de João - Saldo: R$300\n",
      "\n",
      "Operações disponíveis:\n",
      "1. Depositar\n",
      "2. Sacar\n",
      "3. Ver saldo\n",
      "4. Sair\n",
      "Saque de R$100.0 realizado. Saldo atual: R$200.0\n",
      "\n",
      "Operações disponíveis:\n",
      "1. Depositar\n",
      "2. Sacar\n",
      "3. Ver saldo\n",
      "4. Sair\n",
      "Saindo...\n"
     ]
    }
   ],
   "source": [
    "#3.Expanda o simulador de conta:\n",
    "# Crie uma lista de contas.\n",
    "# Permita ao usuário escolher uma conta pelo nome e fazer operações.\n",
    "\n",
    "class Conta:\n",
    "    def __init__(self, nome, saldo=0):\n",
    "        self.nome = nome    # Nome do titular da conta\n",
    "        self.saldo = saldo  # Saldo inicial (padrão = 0)\n",
    "\n",
    "    def depositar(self, valor):\n",
    "        self.saldo += valor  # Adiciona o valor ao saldo\n",
    "        return f\"Depósito de R${valor} realizado. Saldo atual: R${self.saldo}\"\n",
    "\n",
    "    def sacar(self, valor):\n",
    "        if valor <= self.saldo:   # Verifica se há saldo suficiente\n",
    "            self.saldo -= valor   # Subtrai o valor\n",
    "            return f\"Saque de R${valor} realizado. Saldo atual: R${self.saldo}\"\n",
    "        else:\n",
    "            return \"Saldo insuficiente!\"\n",
    "\n",
    "    def __str__(self):\n",
    "        # Define como a conta será exibida no print()\n",
    "        return f\"Conta de {self.nome} - Saldo: R${self.saldo}\"\n",
    "\n",
    "\n",
    "# ---- PARTE DO SIMULADOR ----\n",
    "\n",
    "# Criando lista de contas (cada cliente é um objeto da classe Conta)\n",
    "contas = [\n",
    "    Conta(\"Ana\", 500),\n",
    "    Conta(\"João\", 300),\n",
    "    Conta(\"Maria\", 1000)\n",
    "]\n",
    "\n",
    "# Exibindo todas as contas disponíveis\n",
    "print(\"Contas disponíveis:\")\n",
    "for i, conta in enumerate(contas, 1):\n",
    "    print(f\"{i}. {conta.nome} (Saldo: R${conta.saldo})\")\n",
    "\n",
    "# Usuário escolhe uma conta pelo nome\n",
    "escolha = input(\"Digite o nome do titular da conta: \")\n",
    "conta_escolhida = None\n",
    "\n",
    "# Procura a conta correspondente ao nome digitado\n",
    "for conta in contas:\n",
    "    if conta.nome.lower() == escolha.lower():  # comparação sem diferenciar maiúsc./minúsc.\n",
    "        conta_escolhida = conta\n",
    "        break\n",
    "\n",
    "# Se encontrou a conta, permite operações\n",
    "if conta_escolhida:\n",
    "    print(f\"\\nVocê selecionou: {conta_escolhida}\")\n",
    "    \n",
    "    while True:\n",
    "        print(\"\\nOperações disponíveis:\")\n",
    "        print(\"1. Depositar\")\n",
    "        print(\"2. Sacar\")\n",
    "        print(\"3. Ver saldo\")\n",
    "        print(\"4. Sair\")\n",
    "        opcao = input(\"Escolha uma opção: \")\n",
    "\n",
    "        if opcao == \"1\":\n",
    "            valor = float(input(\"Digite o valor do depósito: \"))\n",
    "            print(conta_escolhida.depositar(valor))\n",
    "        elif opcao == \"2\":\n",
    "            valor = float(input(\"Digite o valor do saque: \"))\n",
    "            print(conta_escolhida.sacar(valor))\n",
    "        elif opcao == \"3\":\n",
    "            print(conta_escolhida)\n",
    "        elif opcao == \"4\":\n",
    "            print(\"Saindo...\")\n",
    "            break\n",
    "        else:\n",
    "            print(\"Opção inválida!\")\n",
    "\n",
    "# Se não encontrou a conta\n",
    "else:\n",
    "    print(\"Conta não encontrada!\")\n",
    "\n"
   ]
  },
  {
   "cell_type": "code",
   "execution_count": null,
   "id": "01d65683",
   "metadata": {},
   "outputs": [
    {
     "name": "stdout",
     "output_type": "stream",
     "text": [
      "Conta de Ana - Saldo: R$1000.00\n",
      "Juros aplicados! Novo saldo: R$1050.00\n",
      "Juros aplicados! Novo saldo: R$1102.50\n"
     ]
    }
   ],
   "source": [
    "# Definição da classe Conta\n",
    "class Conta:\n",
    "    # Construtor: inicializa o objeto com nome e saldo (saldo padrão = 0)\n",
    "    def __init__(self, nome, saldo=0):\n",
    "        self.nome = nome   # Atributo que guarda o nome do titular\n",
    "        self.saldo = saldo # Atributo que guarda o saldo da conta\n",
    "\n",
    "    # Método para depositar um valor no saldo\n",
    "    def depositar(self, valor):\n",
    "        self.saldo += valor  # soma o valor ao saldo existente\n",
    "        return f\"Depósito de R${valor} realizado. Saldo atual: R${self.saldo:.2f}\"\n",
    "\n",
    "    # Método para sacar um valor, se houver saldo suficiente\n",
    "    def sacar(self, valor):\n",
    "        if valor <= self.saldo:   # verifica se tem saldo suficiente\n",
    "            self.saldo -= valor   # subtrai o valor do saldo\n",
    "            return f\"Saque de R${valor} realizado. Saldo atual: R${self.saldo:.2f}\"\n",
    "        else:\n",
    "            return \"Saldo insuficiente!\"\n",
    "\n",
    "    # Método para aplicar juros de 5% ao saldo\n",
    "    def aplicar_juros(self):\n",
    "        self.saldo *= 1.05  # multiplica o saldo por 1.05 (aumento de 5%)\n",
    "        return f\"Juros aplicados! Novo saldo: R${self.saldo:.2f}\"\n",
    "\n",
    "    # Método especial que define como o objeto será mostrado quando usado em print()\n",
    "    def __str__(self):\n",
    "        return f\"Conta de {self.nome} - Saldo: R${self.saldo:.2f}\"\n",
    "\n",
    "\n",
    "# ------- Testando a classe -------\n",
    "\n",
    "# Criamos uma conta para \"Ana\" com saldo inicial de R$1000\n",
    "conta1 = Conta(\"Ana\", 1000)\n",
    "\n",
    "# Exibimos a conta (usa o __str__)\n",
    "print(conta1)\n",
    "\n",
    "# Aplicamos juros de 5% sobre o saldo\n",
    "print(conta1.aplicar_juros())  \n",
    "\n",
    "# Aplicamos juros novamente (agora os 5% são sobre o novo saldo, ou seja, juros compostos)\n",
    "print(conta1.aplicar_juros())  \n",
    "\n"
   ]
  }
 ],
 "metadata": {
  "kernelspec": {
   "display_name": "Python 3",
   "language": "python",
   "name": "python3"
  },
  "language_info": {
   "codemirror_mode": {
    "name": "ipython",
    "version": 3
   },
   "file_extension": ".py",
   "mimetype": "text/x-python",
   "name": "python",
   "nbconvert_exporter": "python",
   "pygments_lexer": "ipython3",
   "version": "3.12.3"
  }
 },
 "nbformat": 4,
 "nbformat_minor": 5
}
