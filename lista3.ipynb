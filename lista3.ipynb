{
 "cells": [
  {
   "cell_type": "code",
   "execution_count": 9,
   "id": "a68e518a",
   "metadata": {},
   "outputs": [
    {
     "name": "stdout",
     "output_type": "stream",
     "text": [
      "Falso\n"
     ]
    }
   ],
   "source": [
    "#Peça a idade de uma pessoa e verifique se ela tem entre 18 e 30 anos (inclusive).\n",
    "idade = int(input(\"Digite sua idade: \"))\n",
    "if 18<=idade<=30:\n",
    "    print (\"Verdadeiro\")\n",
    "else:\n",
    "    print (\"Falso\") "
   ]
  },
  {
   "cell_type": "code",
   "execution_count": 19,
   "id": "af624e43",
   "metadata": {},
   "outputs": [
    {
     "name": "stdout",
     "output_type": "stream",
     "text": [
      "Verdadeiro\n"
     ]
    }
   ],
   "source": [
    "#Solicite dois números e verifique se pelo menos um deles é múltiplo de 5.\n",
    "a = int(input('A: '))\n",
    "b = int(input(\"B: \"))\n",
    "if a % 5 == 0 or b % 5 == 0:\n",
    "    print (\"Verdadeiro\")\n",
    "else:\n",
    "    print (\"Falso\")\n"
   ]
  },
  {
   "cell_type": "code",
   "execution_count": 75,
   "id": "7dfc917c",
   "metadata": {},
   "outputs": [
    {
     "name": "stdout",
     "output_type": "stream",
     "text": [
      "Reprovado\n",
      "Trabalho extra: False\n"
     ]
    }
   ],
   "source": [
    "#Pergunte a nota de um aluno e se ele fez trabalho extra (True/False). Aprove se a nota for ≥ 7 ou se fez trabalho extra.\n",
    "n1 = int(input('Informe sua nota'))\n",
    "trabalho_extra = False\n",
    "if n1 >= 7:\n",
    "    print (\"Aprovado\")\n",
    "    resposta = input(\"Você fez trabalho extra? (s/n) \").lower()\n",
    "    trabalho_extra = (resposta == 's')\n",
    "    trabalho_extra = True\n",
    "else:\n",
    "    print (\"Reprovado\")\n",
    "\n",
    "print (f\"Trabalho extra: {trabalho_extra}\")\n",
    "    \n",
    "\n",
    "\n"
   ]
  },
  {
   "cell_type": "code",
   "execution_count": 22,
   "id": "e2803abd",
   "metadata": {},
   "outputs": [
    {
     "name": "stdout",
     "output_type": "stream",
     "text": [
      "-2 não é par e positivo\n"
     ]
    }
   ],
   "source": [
    "#Peça um número inteiro e verifique se ele é par e positivo.\n",
    "n1 = int(input(\"n1: \"))\n",
    "if n1%2 == 0 and n1>0:\n",
    "    print (f\"{n1} é par e positivo\")\n",
    "else:\n",
    "    print (f\"{n1} não é par e positivo\")"
   ]
  },
  {
   "cell_type": "code",
   "execution_count": 25,
   "id": "0ebdc73e",
   "metadata": {},
   "outputs": [
    {
     "name": "stdout",
     "output_type": "stream",
     "text": [
      "66 está dentro da faixa entre 50 e 100\n"
     ]
    }
   ],
   "source": [
    "#Solicite um valor e verifique se ele está fora da faixa entre 50 e 100.\n",
    "a = int(input(\"A: \"))\n",
    "if 50<=a<=100:\n",
    "    print (f\"{a} está dentro da faixa entre 50 e 100\")\n",
    "else:\n",
    "    print (f\"{a} não está dentro da faixa entre 50 e 100\")"
   ]
  },
  {
   "cell_type": "code",
   "execution_count": null,
   "id": "08f6bab6",
   "metadata": {},
   "outputs": [
    {
     "name": "stdout",
     "output_type": "stream",
     "text": [
      "Voçê tem carteira de motorista: False\n",
      "Você tem idade para dirigir\n"
     ]
    }
   ],
   "source": [
    "#Peça a idade e se tem carteira de motorista (True/False). Permita dirigir se idade ≥ 18 e tiver carteira.\n",
    "carteira = input(\"Você tem carteira de motorista (s/n)\")\n",
    "tem_cateira = carteira.lower() == 's' \n",
    "idade = int(input(\"Quantos anos você tem: \"))\n",
    "print (f\"Voçê tem carteira de motorista: {tem_cateira}\")\n",
    "if idade >= 18:\n",
    "    print (\"Você tem idade para dirigir\")\n",
    "else:\n",
    "    print (\"Voce não pode dirigir ainda\")"
   ]
  },
  {
   "cell_type": "code",
   "execution_count": 37,
   "id": "61de0e59",
   "metadata": {},
   "outputs": [
    {
     "name": "stdout",
     "output_type": "stream",
     "text": [
      "Voce nao digitou dois numeros iguais\n"
     ]
    }
   ],
   "source": [
    "#Solicite três números e verifique se pelo menos dois deles são iguais.\n",
    "a = int(input('a:'))\n",
    "b = int(input(\"b: \"))\n",
    "c = int(input(\"c: \"))\n",
    "if a == b or a == c or b ==c:\n",
    "    print (\"Voce digitou dois numeros iguais\")\n",
    "else:\n",
    "    print (\"Voce nao digitou dois numeros iguais\")\n",
    "    "
   ]
  },
  {
   "cell_type": "code",
   "execution_count": 40,
   "id": "319457ae",
   "metadata": {},
   "outputs": [
    {
     "name": "stdout",
     "output_type": "stream",
     "text": [
      "Seu salario é 10000.0\n",
      "Seu salario é igual a 10000\n"
     ]
    }
   ],
   "source": [
    "#Peça o salário e verifique se ele está entre 2000 e 5000 ou é exatamente 10000.\n",
    "salario = float(input(\"Informe um salário: \"))\n",
    "if 2000<=salario<=5000:\n",
    "    print (\"Seu salario é\", salario)\n",
    "    print (\"Seu salario está entre 2000 e 5000\")\n",
    "elif salario == 10000:\n",
    "    print (\"Seu salario é\", salario)\n",
    "    print (f\"Seu salario é igual a 10000\")\n",
    "else:\n",
    "    print (f\"Seu salário é {salario}\")"
   ]
  },
  {
   "cell_type": "code",
   "execution_count": 61,
   "id": "be1b3454",
   "metadata": {},
   "outputs": [
    {
     "name": "stdout",
     "output_type": "stream",
     "text": [
      "O produto precisa de reposição\n",
      "Produto essencial: True\n"
     ]
    }
   ],
   "source": [
    "#Pergunte a quantidade de produtos no estoque e se é produto essencial (True/False). Reponha se for essencial ou a quantidade for menor que 10.\n",
    "produto = int(input(\"Informe a quantidade de estoque de um produto: \"))\n",
    "produto_essencial = input(\"Esse produto é essencial? (s/n) \")\n",
    "if produto > 10:\n",
    "    produto_essencial = True\n",
    "    print (\"O produto não precisa de reposição\")\n",
    "else:\n",
    "    print (\"O produto precisa de reposição\")\n",
    "    produto_essencial = produto_essencial.lower() == 's'\n",
    "print (f\"Produto essencial: {produto_essencial}\")\n",
    "\n"
   ]
  },
  {
   "cell_type": "code",
   "execution_count": 45,
   "id": "cd87ed71",
   "metadata": {},
   "outputs": [
    {
     "name": "stdout",
     "output_type": "stream",
     "text": [
      "Voce esta saudavel\n",
      "Seu IMC é 24.280975342840534\n"
     ]
    }
   ],
   "source": [
    "#Solicite a altura e o peso, e verifique se o IMC está fora da faixa saudável (18.5 a 24.9).\n",
    "altura = float(input(\"Informe sua altura: \"))\n",
    "peso = float(input(\"Informe seu peso: \"))\n",
    "IMC = peso / (altura**2)\n",
    "if 18.5<=IMC<=24.9:\n",
    "    print ('Voce esta saudavel')\n",
    "    print (f\"Seu IMC é {IMC}\")\n",
    "else:\n",
    "    print ('Voce nao esta saudavel')"
   ]
  },
  {
   "cell_type": "code",
   "execution_count": 48,
   "id": "1eace4fc",
   "metadata": {},
   "outputs": [
    {
     "name": "stdout",
     "output_type": "stream",
     "text": [
      "O numero que voce informou é 36\n",
      "Esse numero é multiplo de 3 e de 4\n"
     ]
    }
   ],
   "source": [
    "#Peça um número e verifique se ele é múltiplo de 3 e de 4 ao mesmo tempo.\n",
    "n1 = int(input('Informe um número: '))\n",
    "print ('O numero que voce informou é', n1)\n",
    "if n1%3 == 0 and n1%4 == 0:\n",
    "    print ('Esse numero é multiplo de 3 e de 4')\n",
    "else:\n",
    "    print ('Esse numero não é multiplo de 3 e de 4 ao mesmo tempo')"
   ]
  },
  {
   "cell_type": "code",
   "execution_count": null,
   "id": "2399818d",
   "metadata": {},
   "outputs": [
    {
     "name": "stdout",
     "output_type": "stream",
     "text": [
      "Você é menor de idade.\n",
      "Autorização para entrada: True\n"
     ]
    }
   ],
   "source": [
    "# Solicita idade do usuário\n",
    "idade = int(input('Informe sua idade: '))\n",
    "\n",
    "# Variável para armazenar se o usuário tem autorização\n",
    "tem_autorizacao = False\n",
    "\n",
    "# Verifica se é maior de idade\n",
    "if idade >= 18: \n",
    "    print('Você é maior de idade e não precisa de autorização dos pais.')\n",
    "    tem_autorizacao = True\n",
    "else:\n",
    "    print('Você é menor de idade.')\n",
    "    resposta = input('Você tem autorização dos seus pais? (s/n): ').lower()\n",
    "    tem_autorizacao = (resposta == 's')\n",
    "\n",
    "# Exibe resultado\n",
    "print(\"Autorização para entrada:\", tem_autorizacao)\n"
   ]
  },
  {
   "cell_type": "code",
   "execution_count": null,
   "id": "c3bcf0e0",
   "metadata": {},
   "outputs": [],
   "source": [
    "idade = int(input(\"Digite sua idade: \"))\n",
    "vip = input(\"Você é VIP? (s/n): \").lower() == 's'\n"
   ]
  }
 ],
 "metadata": {
  "kernelspec": {
   "display_name": "Python 3",
   "language": "python",
   "name": "python3"
  },
  "language_info": {
   "codemirror_mode": {
    "name": "ipython",
    "version": 3
   },
   "file_extension": ".py",
   "mimetype": "text/x-python",
   "name": "python",
   "nbconvert_exporter": "python",
   "pygments_lexer": "ipython3",
   "version": "3.12.3"
  }
 },
 "nbformat": 4,
 "nbformat_minor": 5
}
